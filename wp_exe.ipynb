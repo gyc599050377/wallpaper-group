{
 "cells": [
  {
   "cell_type": "code",
   "execution_count": 1,
   "metadata": {},
   "outputs": [],
   "source": [
    "import wp_src_code as wp"
   ]
  },
  {
   "cell_type": "code",
   "execution_count": 2,
   "metadata": {},
   "outputs": [],
   "source": [
    "import cv2, math, os, random\n",
    "import numpy as np"
   ]
  },
  {
   "cell_type": "code",
   "execution_count": 3,
   "metadata": {},
   "outputs": [],
   "source": [
    "# from fastai.vision import * # after install fastai"
   ]
  },
  {
   "cell_type": "code",
   "execution_count": 4,
   "metadata": {
    "scrolled": true
   },
   "outputs": [
    {
     "data": {
      "text/plain": [
       "'/home/yig319/Dropbox/wallpaper/code_seperate'"
      ]
     },
     "execution_count": 4,
     "metadata": {},
     "output_type": "execute_result"
    }
   ],
   "source": [
    "pwd"
   ]
  },
  {
   "cell_type": "code",
   "execution_count": 5,
   "metadata": {},
   "outputs": [],
   "source": [
    "# cd ..\n",
    "\n",
    "# cd code_seperate"
   ]
  },
  {
   "cell_type": "code",
   "execution_count": 6,
   "metadata": {},
   "outputs": [
    {
     "data": {
      "text/plain": [
       "(280, 417, 3)"
      ]
     },
     "execution_count": 6,
     "metadata": {},
     "output_type": "execute_result"
    }
   ],
   "source": [
    "ori = cv2.imread('00000001.jpg')\n",
    "image = np.copy(ori)\n",
    "image.shape  # check "
   ]
  },
  {
   "cell_type": "code",
   "execution_count": 7,
   "metadata": {},
   "outputs": [],
   "source": [
    "# imagelist = os.listdir('C:/Users/59905/Dropbox/wallpaper/1') # create folder for results\n",
    "# l=len(imagelist)\n",
    "\n",
    "# for i in range(0,l):\n",
    "#     file=str(Path(imagelist[i]))\n",
    "#     dest=file[:8]\n",
    "#     path=Path('C:/Users/59905/Dropbox/wallpaper/'+dest)\n",
    "#     os.mkdir(path)"
   ]
  },
  {
   "cell_type": "code",
   "execution_count": 7,
   "metadata": {
    "scrolled": true
   },
   "outputs": [
    {
     "name": "stdout",
     "output_type": "stream",
     "text": [
      "/home/yig319/Dropbox/wallpaper/code_seperate/result_1\n"
     ]
    }
   ],
   "source": [
    "cd result_1"
   ]
  },
  {
   "cell_type": "code",
   "execution_count": 8,
   "metadata": {},
   "outputs": [],
   "source": [
    "# cd .."
   ]
  },
  {
   "cell_type": "code",
   "execution_count": 9,
   "metadata": {
    "scrolled": false
   },
   "outputs": [
    {
     "name": "stdout",
     "output_type": "stream",
     "text": [
      "/home/yig319/Dropbox/wallpaper/code_seperate/result_1/9\n"
     ]
    }
   ],
   "source": [
    "cd 9"
   ]
  },
  {
   "cell_type": "code",
   "execution_count": 10,
   "metadata": {},
   "outputs": [
    {
     "data": {
      "text/plain": [
       "True"
      ]
     },
     "execution_count": 10,
     "metadata": {},
     "output_type": "execute_result"
    }
   ],
   "source": [
    "# for times in range (1,6):\n",
    "\n",
    "#     folder_name = str(i)\n",
    "#     cd folder_name\n",
    "\n",
    "angle = random.randint(20,85)\n",
    "unit_h = random.randint(30,80)\n",
    "lower_bound = int(unit_h/math.tan(math.radians(angle)))\n",
    "if lower_bound > 65:\n",
    "    unit_w = random.randint(lower_bound+15, lower_bound+75)\n",
    "else: \n",
    "    unit_w = random.randint(lower_bound+15,85)\n",
    "\n",
    "\n",
    "p1_1 = wp.p1_rectangular(image,unit_w,unit_h,256,256)\n",
    "p1_2 = wp.p1_square(image,unit_w,256,256)\n",
    "p1_3 = wp.p1_oblique(image,unit_w,unit_h,angle,256,256) \n",
    "p1_4 = wp.p1_hexagonal(image,unit_w,256,256)\n",
    "p1_5 = wp.p1_rhombic(image,unit_w,unit_h,256,256) \n",
    "\n",
    "cv2.imwrite('p1_1.png',p1_1)\n",
    "cv2.imwrite('p1_2.png',p1_2)\n",
    "cv2.imwrite('p1_3.png',p1_3)\n",
    "cv2.imwrite('p1_4.png',p1_4)\n",
    "cv2.imwrite('p1_5.png',p1_5)\n",
    "\n",
    "p2_1 = wp.p2_rectangular(image,unit_w,unit_h,256,256)\n",
    "p2_2 = wp.p2_square(image,unit_w,256,256)\n",
    "p2_3 = wp.p2_oblique(image,unit_w,unit_h,angle,256,256) \n",
    "p2_4 = wp.p2_hexagonal(image,unit_w,256,256)\n",
    "p2_5 = wp.p2_rhombic(image,unit_w,unit_h,256,256)\n",
    "\n",
    "cv2.imwrite('p2_1.png',p2_1)\n",
    "cv2.imwrite('p2_2.png',p2_2)\n",
    "cv2.imwrite('p2_3.png',p2_3)\n",
    "cv2.imwrite('p2_4.png',p2_4)\n",
    "cv2.imwrite('p2_5.png',p2_5)\n",
    "\n",
    "pm_1 = wp.pm_horizontal(image,unit_w,unit_h,256,256)\n",
    "pm_2 = wp.pm_vertical(image,unit_w,unit_h,256,256)\n",
    "cv2.imwrite('pm_1.png',pm_1)\n",
    "cv2.imwrite('pm_2.png',pm_2)\n",
    "\n",
    "pg_1 = wp.pg_horizontal(image,unit_w,unit_h,256,256)\n",
    "pg_2 = wp.pg_vertical(image,unit_w,unit_h,256,256)\n",
    "cv2.imwrite('pg_1.png',pg_1)\n",
    "cv2.imwrite('pg_2.png',pg_2)\n",
    "\n",
    "pmm_1 = wp.pmm(image,unit_w,unit_h,256,256)\n",
    "cv2.imwrite('pmm_1.png',pmm_1)\n",
    "\n",
    "pmg_1 = wp.pmg_horizontal(image,unit_w,unit_h,256,256)\n",
    "pmg_2 = wp.pmg_vertical(image,unit_w,unit_h,256,256)\n",
    "cv2.imwrite('pmg_1.png',pmg_1)\n",
    "cv2.imwrite('pmg_2.png',pmg_2)\n",
    "\n",
    "cm_1 = wp.cm_horizontal(image,unit_w,unit_h,256,256) \n",
    "cm_2 = wp.cm_vertical(image,unit_w,unit_h,256,256)\n",
    "cv2.imwrite('cm_1.png',cm_1)\n",
    "cv2.imwrite('cm_2.png',cm_2)\n",
    "\n",
    "pgg_1 = wp.pgg(image,unit_w,unit_h,256,256)\n",
    "cv2.imwrite('pgg_1.png',pgg_1) \n",
    "\n",
    "cmm_1 = wp.cmm(image,unit_w,unit_h,256,256)\n",
    "cv2.imwrite('cmm_1.png',cmm_1)  \n",
    "\n",
    "p4_1 = wp.p4(image,unit_w,256,256)\n",
    "cv2.imwrite('p4_1.png',p4_1)\n",
    "\n",
    "p4m_1 = wp.p4m(image,unit_w,256,256)\n",
    "cv2.imwrite('p4m_1.png',p4m_1)\n",
    "\n",
    "p4g_1 = wp.p4g(image,unit_w,256,256)\n",
    "cv2.imwrite('p4g_1.png',p4g_1)\n",
    "\n",
    "p3_1 = wp.p3(image,unit_w,256,256)\n",
    "cv2.imwrite('p3_1.png',p3_1)  \n",
    "\n",
    "p3m1_1 = wp.p3m1(image,unit_w,256,256)  #!!!\n",
    "cv2.imwrite('p3m1_1.png',p3m1_1)\n",
    "\n",
    "p31m_1 = wp.p31m(image,unit_w,256,256)\n",
    "cv2.imwrite('p31m_1.png',p31m_1) \n",
    "\n",
    "p6_1 = wp.p6(image,unit_w,256,256)\n",
    "cv2.imwrite('p6_1.png',p6_1)  \n",
    "\n",
    "p6m_1 = wp.p6m(image,unit_w,256,256) \n",
    "cv2.imwrite('p6m_1.png',p6m_1)\n",
    "\n",
    "# cv2.imwrite('image.png',image) #check original image"
   ]
  },
  {
   "cell_type": "code",
   "execution_count": 11,
   "metadata": {},
   "outputs": [
    {
     "data": {
      "text/plain": [
       "(40, 63, 79)"
      ]
     },
     "execution_count": 11,
     "metadata": {},
     "output_type": "execute_result"
    }
   ],
   "source": [
    "unit_h, unit_w, angle"
   ]
  },
  {
   "cell_type": "code",
   "execution_count": null,
   "metadata": {},
   "outputs": [],
   "source": []
  }
 ],
 "metadata": {
  "kernelspec": {
   "display_name": "Python [conda env:fastai]",
   "language": "python",
   "name": "conda-env-fastai-py"
  },
  "language_info": {
   "codemirror_mode": {
    "name": "ipython",
    "version": 3
   },
   "file_extension": ".py",
   "mimetype": "text/x-python",
   "name": "python",
   "nbconvert_exporter": "python",
   "pygments_lexer": "ipython3",
   "version": "3.6.8"
  }
 },
 "nbformat": 4,
 "nbformat_minor": 2
}
