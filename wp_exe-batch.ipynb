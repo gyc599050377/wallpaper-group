{
 "cells": [
  {
   "cell_type": "code",
   "execution_count": 1,
   "metadata": {},
   "outputs": [],
   "source": [
    "import wp_src_code as wp"
   ]
  },
  {
   "cell_type": "code",
   "execution_count": 2,
   "metadata": {},
   "outputs": [],
   "source": [
    "import cv2, math, os, random\n",
    "import numpy as np"
   ]
  },
  {
   "cell_type": "code",
   "execution_count": 3,
   "metadata": {},
   "outputs": [],
   "source": [
    "from fastai.vision import * # after install fastai"
   ]
  },
  {
   "cell_type": "code",
   "execution_count": 4,
   "metadata": {
    "scrolled": true
   },
   "outputs": [
    {
     "data": {
      "text/plain": [
       "'/home/yig319/Dropbox/wallpaper/code_seperate'"
      ]
     },
     "execution_count": 4,
     "metadata": {},
     "output_type": "execute_result"
    }
   ],
   "source": [
    "pwd"
   ]
  },
  {
   "cell_type": "code",
   "execution_count": 5,
   "metadata": {
    "scrolled": true
   },
   "outputs": [],
   "source": [
    "# wget -i image.txt"
   ]
  },
  {
   "cell_type": "code",
   "execution_count": 15,
   "metadata": {},
   "outputs": [],
   "source": [
    "source = '/home/yig319/Documents/image_source1/'\n",
    "\n",
    "output = '/home/yig319/Documents/image_result1/'"
   ]
  },
  {
   "cell_type": "code",
   "execution_count": 16,
   "metadata": {},
   "outputs": [
    {
     "name": "stdout",
     "output_type": "stream",
     "text": [
      "/home/yig319/Documents/image_source1\n"
     ]
    }
   ],
   "source": [
    "cd /home/yig319/Documents/image_source1/"
   ]
  },
  {
   "cell_type": "code",
   "execution_count": 19,
   "metadata": {
    "scrolled": false
   },
   "outputs": [
    {
     "ename": "ValueError",
     "evalue": "could not broadcast input array from shape (64,73,3) into shape (66,73,3)",
     "output_type": "error",
     "traceback": [
      "\u001b[0;31m---------------------------------------------------------------------------\u001b[0m",
      "\u001b[0;31mValueError\u001b[0m                                Traceback (most recent call last)",
      "\u001b[0;32m<ipython-input-19-c5ff3dc9b6c4>\u001b[0m in \u001b[0;36m<module>\u001b[0;34m\u001b[0m\n\u001b[1;32m    100\u001b[0m     \u001b[0mcv2\u001b[0m\u001b[0;34m.\u001b[0m\u001b[0mimwrite\u001b[0m\u001b[0;34m(\u001b[0m\u001b[0mfolder_str\u001b[0m\u001b[0;34m+\u001b[0m \u001b[0;34m'/'\u001b[0m \u001b[0;34m+\u001b[0m\u001b[0;34m'p6_1.png'\u001b[0m\u001b[0;34m,\u001b[0m\u001b[0mp6_1\u001b[0m\u001b[0;34m)\u001b[0m\u001b[0;34m\u001b[0m\u001b[0;34m\u001b[0m\u001b[0m\n\u001b[1;32m    101\u001b[0m \u001b[0;34m\u001b[0m\u001b[0m\n\u001b[0;32m--> 102\u001b[0;31m     \u001b[0mp6m_1\u001b[0m \u001b[0;34m=\u001b[0m \u001b[0mwp\u001b[0m\u001b[0;34m.\u001b[0m\u001b[0mp6m\u001b[0m\u001b[0;34m(\u001b[0m\u001b[0mimage\u001b[0m\u001b[0;34m,\u001b[0m\u001b[0munit_w\u001b[0m\u001b[0;34m,\u001b[0m\u001b[0;36m256\u001b[0m\u001b[0;34m,\u001b[0m\u001b[0;36m256\u001b[0m\u001b[0;34m)\u001b[0m\u001b[0;34m\u001b[0m\u001b[0;34m\u001b[0m\u001b[0m\n\u001b[0m\u001b[1;32m    103\u001b[0m     \u001b[0mcv2\u001b[0m\u001b[0;34m.\u001b[0m\u001b[0mimwrite\u001b[0m\u001b[0;34m(\u001b[0m\u001b[0mfolder_str\u001b[0m\u001b[0;34m+\u001b[0m \u001b[0;34m'/'\u001b[0m \u001b[0;34m+\u001b[0m\u001b[0;34m'p6m_1.png'\u001b[0m\u001b[0;34m,\u001b[0m\u001b[0mp6m_1\u001b[0m\u001b[0;34m)\u001b[0m\u001b[0;34m\u001b[0m\u001b[0;34m\u001b[0m\u001b[0m\n",
      "\u001b[0;32m~/Dropbox/wallpaper/code_seperate/wp_src_code.py\u001b[0m in \u001b[0;36mp6m\u001b[0;34m(image, unit_h, Width, Height)\u001b[0m\n\u001b[1;32m    998\u001b[0m     \u001b[0mrec\u001b[0m \u001b[0;34m=\u001b[0m \u001b[0mrec_crop\u001b[0m\u001b[0;34m(\u001b[0m\u001b[0mimage\u001b[0m\u001b[0;34m,\u001b[0m\u001b[0mint\u001b[0m\u001b[0;34m(\u001b[0m\u001b[0munit_h\u001b[0m\u001b[0;34m*\u001b[0m\u001b[0mmath\u001b[0m\u001b[0;34m.\u001b[0m\u001b[0msqrt\u001b[0m\u001b[0;34m(\u001b[0m\u001b[0;36m3\u001b[0m\u001b[0;34m)\u001b[0m\u001b[0;34m)\u001b[0m\u001b[0;34m,\u001b[0m\u001b[0munit_h\u001b[0m\u001b[0;34m)\u001b[0m\u001b[0;34m\u001b[0m\u001b[0;34m\u001b[0m\u001b[0m\n\u001b[1;32m    999\u001b[0m     \u001b[0mcrop\u001b[0m \u001b[0;34m=\u001b[0m \u001b[0mobli_crop\u001b[0m\u001b[0;34m(\u001b[0m\u001b[0mrec\u001b[0m\u001b[0;34m,\u001b[0m \u001b[0;36m60\u001b[0m\u001b[0;34m)\u001b[0m\u001b[0;34m\u001b[0m\u001b[0;34m\u001b[0m\u001b[0m\n\u001b[0;32m-> 1000\u001b[0;31m     \u001b[0mrhombic_p3m1\u001b[0m \u001b[0;34m=\u001b[0m \u001b[0mrhomb_p3m1\u001b[0m\u001b[0;34m(\u001b[0m\u001b[0mcrop\u001b[0m\u001b[0;34m)\u001b[0m\u001b[0;34m\u001b[0m\u001b[0;34m\u001b[0m\u001b[0m\n\u001b[0m\u001b[1;32m   1001\u001b[0m \u001b[0;34m\u001b[0m\u001b[0m\n\u001b[1;32m   1002\u001b[0m     \u001b[0;31m# crop a rhombic for p3m1 :\u001b[0m\u001b[0;34m\u001b[0m\u001b[0;34m\u001b[0m\u001b[0;34m\u001b[0m\u001b[0m\n",
      "\u001b[0;32m~/Dropbox/wallpaper/code_seperate/wp_src_code.py\u001b[0m in \u001b[0;36mrhomb_p3m1\u001b[0;34m(crop)\u001b[0m\n\u001b[1;32m    883\u001b[0m         \u001b[0mright_r\u001b[0m\u001b[0;34m[\u001b[0m\u001b[0;34m:\u001b[0m\u001b[0mhhr\u001b[0m\u001b[0;34m,\u001b[0m\u001b[0;34m:\u001b[0m\u001b[0mwwr\u001b[0m\u001b[0;34m,\u001b[0m\u001b[0;34m:\u001b[0m\u001b[0;34m]\u001b[0m \u001b[0;34m=\u001b[0m \u001b[0mnp\u001b[0m\u001b[0;34m.\u001b[0m\u001b[0mcopy\u001b[0m\u001b[0;34m(\u001b[0m\u001b[0mright\u001b[0m\u001b[0;34m)\u001b[0m\u001b[0;34m\u001b[0m\u001b[0;34m\u001b[0m\u001b[0m\n\u001b[1;32m    884\u001b[0m         \u001b[0;32mif\u001b[0m \u001b[0mhhr\u001b[0m \u001b[0;34m<\u001b[0m \u001b[0mhh\u001b[0m\u001b[0;34m:\u001b[0m\u001b[0;34m\u001b[0m\u001b[0;34m\u001b[0m\u001b[0m\n\u001b[0;32m--> 885\u001b[0;31m             \u001b[0mright_r\u001b[0m\u001b[0;34m[\u001b[0m\u001b[0;34m-\u001b[0m\u001b[0;34m(\u001b[0m\u001b[0mhh\u001b[0m\u001b[0;34m-\u001b[0m\u001b[0mhhr\u001b[0m\u001b[0;34m)\u001b[0m\u001b[0;34m:\u001b[0m\u001b[0;34m,\u001b[0m\u001b[0;34m:\u001b[0m\u001b[0;34m,\u001b[0m\u001b[0;34m:\u001b[0m\u001b[0;34m]\u001b[0m \u001b[0;34m=\u001b[0m \u001b[0mnp\u001b[0m\u001b[0;34m.\u001b[0m\u001b[0mcopy\u001b[0m\u001b[0;34m(\u001b[0m\u001b[0mright\u001b[0m\u001b[0;34m[\u001b[0m\u001b[0;34m-\u001b[0m\u001b[0;34m(\u001b[0m\u001b[0mhh\u001b[0m\u001b[0;34m-\u001b[0m\u001b[0mhhr\u001b[0m\u001b[0;34m)\u001b[0m\u001b[0;34m:\u001b[0m\u001b[0;34m,\u001b[0m\u001b[0;34m:\u001b[0m\u001b[0;34m,\u001b[0m\u001b[0;34m:\u001b[0m\u001b[0;34m]\u001b[0m\u001b[0;34m)\u001b[0m\u001b[0;34m\u001b[0m\u001b[0;34m\u001b[0m\u001b[0m\n\u001b[0m\u001b[1;32m    886\u001b[0m         \u001b[0;32mif\u001b[0m \u001b[0mwwr\u001b[0m \u001b[0;34m<\u001b[0m \u001b[0mww\u001b[0m \u001b[0;34m:\u001b[0m\u001b[0;34m\u001b[0m\u001b[0;34m\u001b[0m\u001b[0m\n\u001b[1;32m    887\u001b[0m             \u001b[0mright_r\u001b[0m\u001b[0;34m[\u001b[0m\u001b[0;34m-\u001b[0m\u001b[0;34m(\u001b[0m\u001b[0mww\u001b[0m\u001b[0;34m-\u001b[0m\u001b[0mwwr\u001b[0m\u001b[0;34m)\u001b[0m\u001b[0;34m:\u001b[0m\u001b[0;34m,\u001b[0m\u001b[0;34m:\u001b[0m\u001b[0;34m,\u001b[0m\u001b[0;34m:\u001b[0m\u001b[0;34m]\u001b[0m \u001b[0;34m=\u001b[0m \u001b[0mnp\u001b[0m\u001b[0;34m.\u001b[0m\u001b[0mcopy\u001b[0m\u001b[0;34m(\u001b[0m\u001b[0mright\u001b[0m\u001b[0;34m[\u001b[0m\u001b[0;34m-\u001b[0m\u001b[0;34m(\u001b[0m\u001b[0mww\u001b[0m\u001b[0;34m-\u001b[0m\u001b[0mwwr\u001b[0m\u001b[0;34m)\u001b[0m\u001b[0;34m:\u001b[0m\u001b[0;34m,\u001b[0m\u001b[0;34m:\u001b[0m\u001b[0;34m,\u001b[0m\u001b[0;34m:\u001b[0m\u001b[0;34m]\u001b[0m\u001b[0;34m)\u001b[0m\u001b[0;34m\u001b[0m\u001b[0;34m\u001b[0m\u001b[0m\n",
      "\u001b[0;31mValueError\u001b[0m: could not broadcast input array from shape (64,73,3) into shape (66,73,3)"
     ]
    }
   ],
   "source": [
    "imagelist = os.listdir(source) \n",
    "l=len(imagelist)\n",
    "start_number = random.randint(1,l-1)\n",
    "\n",
    "for i in range(0,l):\n",
    "    file=imagelist[i]\n",
    "    dest=file[:-4]\n",
    "    folder_str = output + dest\n",
    "    path_folder = Path(output + dest)\n",
    "    \n",
    "    if not os.path.exists(path_folder):\n",
    "        os.makedirs(path_folder)\n",
    "\n",
    "    angle = random.randint(20,85)\n",
    "    unit_h = random.randint(30,80)\n",
    "    lower_bound = int(unit_h/math.tan(math.radians(angle)))\n",
    "    if lower_bound > 65:\n",
    "        unit_w = random.randint(lower_bound+15, lower_bound+75)\n",
    "    else: \n",
    "        unit_w = random.randint(lower_bound+15,85)\n",
    "\n",
    "    ori = cv2.imread(imagelist[i])\n",
    "    image = np.copy(ori)\n",
    "\n",
    "    p1_1 = wp.p1_rectangular(image,unit_w,unit_h,256,256)\n",
    "    p1_2 = wp.p1_square(image,unit_w,256,256)\n",
    "    p1_3 = wp.p1_oblique(image,unit_w,unit_h,angle,256,256) \n",
    "    p1_4 = wp.p1_hexagonal(image,unit_w,256,256)\n",
    "    p1_5 = wp.p1_rhombic(image,unit_w,unit_h,256,256) \n",
    "\n",
    "    cv2.imwrite(folder_str+ '/' +'p1_1.png',p1_1)\n",
    "    cv2.imwrite(folder_str+ '/' +'p1_2.png',p1_2)\n",
    "    cv2.imwrite(folder_str+ '/' +'p1_3.png',p1_3)\n",
    "    cv2.imwrite(folder_str+ '/' +'p1_4.png',p1_4)\n",
    "    cv2.imwrite(folder_str+ '/' +'p1_5.png',p1_5)\n",
    "\n",
    "    p2_1 = wp.p2_rectangular(image,unit_w,unit_h,256,256)\n",
    "    p2_2 = wp.p2_square(image,unit_w,256,256)\n",
    "    p2_3 = wp.p2_oblique(image,unit_w,unit_h,angle,256,256) \n",
    "    p2_4 = wp.p2_hexagonal(image,unit_w,256,256)\n",
    "    p2_5 = wp.p2_rhombic(image,unit_w,unit_h,256,256)\n",
    "\n",
    "    cv2.imwrite(folder_str+ '/' +'p2_1.png',p2_1)\n",
    "    cv2.imwrite(folder_str+ '/' +'p2_2.png',p2_2)\n",
    "    cv2.imwrite(folder_str+ '/' +'p2_3.png',p2_3)\n",
    "    cv2.imwrite(folder_str+ '/' +'p2_4.png',p2_4)\n",
    "    cv2.imwrite(folder_str+ '/' +'p2_5.png',p2_5)\n",
    "\n",
    "    pm_1 = wp.pm_horizontal(image,unit_w,unit_h,256,256)\n",
    "    pm_2 = wp.pm_vertical(image,unit_w,unit_h,256,256)\n",
    "    cv2.imwrite(folder_str+ '/' +'pm_1.png',pm_1)\n",
    "    cv2.imwrite(folder_str+ '/' +'pm_2.png',pm_2)\n",
    "\n",
    "    pg_1 = wp.pg_horizontal(image,unit_w,unit_h,256,256)\n",
    "    pg_2 = wp.pg_vertical(image,unit_w,unit_h,256,256)\n",
    "    cv2.imwrite(folder_str+ '/' +'pg_1.png',pg_1)\n",
    "    cv2.imwrite(folder_str+ '/' +'pg_2.png',pg_2)\n",
    "\n",
    "    pmm_1 = wp.pmm(image,unit_w,unit_h,256,256)\n",
    "    cv2.imwrite(folder_str+ '/' +'pmm_1.png',pmm_1)\n",
    "\n",
    "    pmg_1 = wp.pmg_horizontal(image,unit_w,unit_h,256,256)\n",
    "    pmg_2 = wp.pmg_vertical(image,unit_w,unit_h,256,256)\n",
    "    cv2.imwrite(folder_str+ '/' +'pmg_1.png',pmg_1)\n",
    "    cv2.imwrite(folder_str+ '/' +'pmg_2.png',pmg_2)\n",
    "\n",
    "    cm_1 = wp.cm_horizontal(image,unit_w,unit_h,256,256) \n",
    "    cm_2 = wp.cm_vertical(image,unit_w,unit_h,256,256)\n",
    "    cv2.imwrite(folder_str+ '/' +'cm_1.png',cm_1)\n",
    "    cv2.imwrite(folder_str+ '/' +'cm_2.png',cm_2)\n",
    "\n",
    "    pgg_1 = wp.pgg(image,unit_w,unit_h,256,256)\n",
    "    cv2.imwrite(folder_str+ '/' +'pgg_1.png',pgg_1) \n",
    "\n",
    "    cmm_1 = wp.cmm(image,unit_w,unit_h,256,256)\n",
    "    cv2.imwrite(folder_str+ '/' +'cmm_1.png',cmm_1)  \n",
    "\n",
    "    p4_1 = wp.p4(image,unit_w,256,256)\n",
    "    cv2.imwrite(folder_str+ '/' +'p4_1.png',p4_1)\n",
    "\n",
    "    p4m_1 = wp.p4m(image,unit_w,256,256)\n",
    "    cv2.imwrite(folder_str+ '/' +'p4m_1.png',p4m_1)\n",
    "\n",
    "    p4g_1 = wp.p4g(image,unit_w,256,256)\n",
    "    cv2.imwrite(folder_str+ '/' +'p4g_1.png',p4g_1)\n",
    "\n",
    "    p3_1 = wp.p3(image,unit_w,256,256)\n",
    "    cv2.imwrite(folder_str+ '/' +'p3_1.png',p3_1)  \n",
    "\n",
    "    p3m1_1 = wp.p3m1(image,unit_w,256,256)  \n",
    "    cv2.imwrite(folder_str+ '/' +'p3m1_1.png',p3m1_1)\n",
    "\n",
    "    try:\n",
    "        p31m_1 = wp.p31m(image,unit_w,256,256)\n",
    "        cv2.imwrite(folder_str+ '/' +'p31m_1.png',p31m_1) \n",
    "    except:\n",
    "        pass\n",
    "    \n",
    "    p6_1 = wp.p6(image,unit_w,256,256)\n",
    "    cv2.imwrite(folder_str+ '/' +'p6_1.png',p6_1)  \n",
    "\n",
    "    p6m_1 = wp.p6m(image,unit_w,256,256) \n",
    "    cv2.imwrite(folder_str+ '/' +'p6m_1.png',p6m_1)"
   ]
  },
  {
   "cell_type": "code",
   "execution_count": 10,
   "metadata": {},
   "outputs": [
    {
     "data": {
      "text/plain": [
       "4122"
      ]
     },
     "execution_count": 10,
     "metadata": {},
     "output_type": "execute_result"
    }
   ],
   "source": []
  },
  {
   "cell_type": "code",
   "execution_count": null,
   "metadata": {},
   "outputs": [],
   "source": []
  },
  {
   "cell_type": "code",
   "execution_count": 13,
   "metadata": {},
   "outputs": [],
   "source": [
    "# imagelist = os.listdir('/home/yig319/Dropbox/wallpaper/original/') \n",
    "# l=len(imagelist)\n",
    "\n",
    "# for i in range(0,l):\n",
    "#     file=imagelist[i]\n",
    "#     dest=file[:-4]\n",
    "#     path_str = '/home/yig319/Dropbox/wallpaper/original/'+dest \n",
    "#     path=Path('/home/yig319/Dropbox/wallpaper/original/'+dest)\n",
    "#     os.mkdir(path)\n",
    "\n",
    "#     angle = random.randint(20,85)\n",
    "#     unit_h = random.randint(30,80)\n",
    "#     lower_bound = int(unit_h/math.tan(math.radians(angle)))\n",
    "#     if lower_bound > 65:\n",
    "#         unit_w = random.randint(lower_bound+15, lower_bound+75)\n",
    "#     else: \n",
    "#         unit_w = random.randint(lower_bound+15,85)\n",
    "    \n",
    "#     ori = cv2.imread(imagelist[i])\n",
    "#     image = np.copy(ori)\n",
    "\n",
    "#     p1_1 = wp.p1_rectangular(image,unit_w,unit_h,256,256)\n",
    "#     p1_2 = wp.p1_square(image,unit_w,256,256)\n",
    "#     p1_3 = wp.p1_oblique(image,unit_w,unit_h,angle,256,256) \n",
    "#     p1_4 = wp.p1_hexagonal(image,unit_w,256,256)\n",
    "#     p1_5 = wp.p1_rhombic(image,unit_w,unit_h,256,256) \n",
    "\n",
    "#     cv2.imwrite(path_str+ '/' +'p1_1.png',p1_1)\n",
    "#     cv2.imwrite(path_str+ '/' +'p1_2.png',p1_2)\n",
    "#     cv2.imwrite(path_str+ '/' +'p1_3.png',p1_3)\n",
    "#     cv2.imwrite(path_str+ '/' +'p1_4.png',p1_4)\n",
    "#     cv2.imwrite(path_str+ '/' +'p1_5.png',p1_5)\n",
    "\n",
    "#     p2_1 = wp.p2_rectangular(image,unit_w,unit_h,256,256)\n",
    "#     p2_2 = wp.p2_square(image,unit_w,256,256)\n",
    "#     p2_3 = wp.p2_oblique(image,unit_w,unit_h,angle,256,256) \n",
    "#     p2_4 = wp.p2_hexagonal(image,unit_w,256,256)\n",
    "#     p2_5 = wp.p2_rhombic(image,unit_w,unit_h,256,256)\n",
    "\n",
    "#     cv2.imwrite(path_str+ '/' +'p2_1.png',p2_1)\n",
    "#     cv2.imwrite(path_str+ '/' +'p2_2.png',p2_2)\n",
    "#     cv2.imwrite(path_str+ '/' +'p2_3.png',p2_3)\n",
    "#     cv2.imwrite(path_str+ '/' +'p2_4.png',p2_4)\n",
    "#     cv2.imwrite(path_str+ '/' +'p2_5.png',p2_5)\n",
    "\n",
    "#     pm_1 = wp.pm_horizontal(image,unit_w,unit_h,256,256)\n",
    "#     pm_2 = wp.pm_vertical(image,unit_w,unit_h,256,256)\n",
    "#     cv2.imwrite(path_str+ '/' +'pm_1.png',pm_1)\n",
    "#     cv2.imwrite(path_str+ '/' +'pm_2.png',pm_2)\n",
    "\n",
    "#     pg_1 = wp.pg_horizontal(image,unit_w,unit_h,256,256)\n",
    "#     pg_2 = wp.pg_vertical(image,unit_w,unit_h,256,256)\n",
    "#     cv2.imwrite(path_str+ '/' +'pg_1.png',pg_1)\n",
    "#     cv2.imwrite(path_str+ '/' +'pg_2.png',pg_2)\n",
    "\n",
    "#     pmm_1 = wp.pmm(image,unit_w,unit_h,256,256)\n",
    "#     cv2.imwrite(path_str+ '/' +'pmm_1.png',pmm_1)\n",
    "\n",
    "#     pmg_1 = wp.pmg_horizontal(image,unit_w,unit_h,256,256)\n",
    "#     pmg_2 = wp.pmg_vertical(image,unit_w,unit_h,256,256)\n",
    "#     cv2.imwrite(path_str+ '/' +'pmg_1.png',pmg_1)\n",
    "#     cv2.imwrite(path_str+ '/' +'pmg_2.png',pmg_2)\n",
    "\n",
    "#     cm_1 = wp.cm_horizontal(image,unit_w,unit_h,256,256) \n",
    "#     cm_2 = wp.cm_vertical(image,unit_w,unit_h,256,256)\n",
    "#     cv2.imwrite(path_str+ '/' +'cm_1.png',cm_1)\n",
    "#     cv2.imwrite(path_str+ '/' +'cm_2.png',cm_2)\n",
    "\n",
    "#     pgg_1 = wp.pgg(image,unit_w,unit_h,256,256)\n",
    "#     cv2.imwrite(path_str+ '/' +'pgg_1.png',pgg_1) \n",
    "\n",
    "#     cmm_1 = wp.cmm(image,unit_w,unit_h,256,256)\n",
    "#     cv2.imwrite(path_str+ '/' +'cmm_1.png',cmm_1)  \n",
    "\n",
    "#     p4_1 = wp.p4(image,unit_w,256,256)\n",
    "#     cv2.imwrite(path_str+ '/' +'p4_1.png',p4_1)\n",
    "\n",
    "#     p4m_1 = wp.p4m(image,unit_w,256,256)\n",
    "#     cv2.imwrite(path_str+ '/' +'p4m_1.png',p4m_1)\n",
    "\n",
    "#     p4g_1 = wp.p4g(image,unit_w,256,256)\n",
    "#     cv2.imwrite(path_str+ '/' +'p4g_1.png',p4g_1)\n",
    "\n",
    "#     p3_1 = wp.p3(image,unit_w,256,256)\n",
    "#     cv2.imwrite(path_str+ '/' +'p3_1.png',p3_1)  \n",
    "\n",
    "#     p3m1_1 = wp.p3m1(image,unit_w,256,256)  \n",
    "#     cv2.imwrite(path_str+ '/' +'p3m1_1.png',p3m1_1)\n",
    "\n",
    "#     p31m_1 = wp.p31m(image,unit_w,256,256)\n",
    "#     cv2.imwrite(path_str+ '/' +'p31m_1.png',p31m_1) \n",
    "\n",
    "#     p6_1 = wp.p6(image,unit_w,256,256)\n",
    "#     cv2.imwrite(path_str+ '/' +'p6_1.png',p6_1)  \n",
    "\n",
    "#     p6m_1 = wp.p6m(image,unit_w,256,256) \n",
    "#     cv2.imwrite(path_str+ '/' +'p6m_1.png',p6m_1)"
   ]
  }
 ],
 "metadata": {
  "kernelspec": {
   "display_name": "Python [conda env:gyc]",
   "language": "python",
   "name": "conda-env-gyc-py"
  },
  "language_info": {
   "codemirror_mode": {
    "name": "ipython",
    "version": 3
   },
   "file_extension": ".py",
   "mimetype": "text/x-python",
   "name": "python",
   "nbconvert_exporter": "python",
   "pygments_lexer": "ipython3",
   "version": "3.7.3"
  }
 },
 "nbformat": 4,
 "nbformat_minor": 2
}
