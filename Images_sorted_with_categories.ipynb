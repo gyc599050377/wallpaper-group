{
 "cells": [
  {
   "cell_type": "code",
   "execution_count": 1,
   "metadata": {},
   "outputs": [],
   "source": [
    "import os, shutil"
   ]
  },
  {
   "cell_type": "code",
   "execution_count": 2,
   "metadata": {},
   "outputs": [],
   "source": [
    "root_raw = '/home/yig319/Documents/temp_image_results/img_to/' # generated images folder\n",
    "sorted_image_dir = '/home/yig319/Documents/temp_image_results/sorted_image/' # sort generated images"
   ]
  },
  {
   "cell_type": "code",
   "execution_count": 3,
   "metadata": {},
   "outputs": [],
   "source": [
    "# total symmetries categories\n",
    "group_list = ['cm_1', 'cm_2', 'cmm_1', 'p1_1', 'p1_2', 'p1_3', 'p1_4', 'p1_5', #8 groups\n",
    "              'p2_1', 'p2_2', 'p2_3', 'p2_4', 'p2_5', 'p3_1', 'p31m_1', 'p3m1_1', #8 groups\n",
    "              'p4_1', 'p4g_1', 'p4m_1', 'p6_1', 'p6m_1',                          # 5 groups\n",
    "              'pmm_1', 'pm_1', 'pm_2', 'pmg_1', 'pmg_2', 'pg_1', 'pg_2', 'pgg_1'] # 8 groups \n",
    "\n",
    "# create directory for sorted images\n",
    "if not os.path.exists(sorted_image_dir):\n",
    "        os.mkdir(sorted_image_dir)\n",
    "        \n",
    "# create folders for 29 groups\n",
    "for name in group_list:\n",
    "    directory = sorted_image_dir + name\n",
    "    if not os.path.exists(directory):\n",
    "        os.mkdir(directory)\n",
    "        \n",
    "# use a temp folder to save temp images\n",
    "root_temp = root_raw + 'temp_folder/' "
   ]
  },
  {
   "cell_type": "code",
   "execution_count": 5,
   "metadata": {},
   "outputs": [],
   "source": [
    "rename_index = 1 \n",
    "\n",
    "# Sort all images from root_raw and save to sorted_image_dir\n",
    "for folder in os.listdir(root_raw):\n",
    "    shutil.copytree(root_raw + folder, root_temp + folder)\n",
    "    \n",
    "    for image in os.listdir(root_temp + folder + '/'):\n",
    "\n",
    "        for wp_group in os.listdir(root_temp + folder + '/' + image):\n",
    "\n",
    "            src = root_temp + folder + '/' + image + '/' + wp_group\n",
    "            dst = src.replace('.png', '_' + str(rename_index) + '.png')\n",
    "            os.rename(src, dst) \n",
    "\n",
    "            wp_group_folder = wp_group.replace('.png', '')\n",
    "            shutil.move(dst, sorted_image_dir + wp_group_folder)\n",
    "\n",
    "        rename_index += 1       \n",
    "# remove root_temp\n",
    "shutil.rmtree(root_temp)"
   ]
  },
  {
   "cell_type": "code",
   "execution_count": null,
   "metadata": {},
   "outputs": [],
   "source": []
  }
 ],
 "metadata": {
  "kernelspec": {
   "display_name": "Python [conda env:wp]",
   "language": "python",
   "name": "conda-env-wp-py"
  },
  "language_info": {
   "codemirror_mode": {
    "name": "ipython",
    "version": 3
   },
   "file_extension": ".py",
   "mimetype": "text/x-python",
   "name": "python",
   "nbconvert_exporter": "python",
   "pygments_lexer": "ipython3",
   "version": "3.7.5"
  }
 },
 "nbformat": 4,
 "nbformat_minor": 2
}
